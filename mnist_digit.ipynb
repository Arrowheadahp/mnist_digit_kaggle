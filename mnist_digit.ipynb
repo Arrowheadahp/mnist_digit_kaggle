{
 "cells": [
  {
   "cell_type": "code",
   "execution_count": 1,
   "metadata": {},
   "outputs": [],
   "source": [
    "import pandas as pd\n",
    "import matplotlib.pyplot as plt\n",
    "import seaborn as sns\n",
    "import numpy as np"
   ]
  },
  {
   "cell_type": "code",
   "execution_count": 2,
   "metadata": {},
   "outputs": [],
   "source": [
    "from sklearn.model_selection import train_test_split"
   ]
  },
  {
   "cell_type": "code",
   "execution_count": 3,
   "metadata": {},
   "outputs": [],
   "source": [
    "from tensorflow import keras\n",
    "from tensorflow.keras.utils import to_categorical\n",
    "from tensorflow.keras.models import Sequential\n",
    "from tensorflow.keras.layers import (Dense, \n",
    "                                     Dropout, \n",
    "                                     Activation, \n",
    "                                     Flatten, \n",
    "                                     Conv2D, \n",
    "                                     MaxPooling2D, \n",
    "                                     Reshape, \n",
    "                                     Lambda,\n",
    "                                     Input\n",
    "                                    )\n",
    "from tensorflow.keras.preprocessing.image import ImageDataGenerator\n",
    "from tensorflow.keras.layers import BatchNormalization\n",
    "from tensorflow.keras.callbacks import *"
   ]
  },
  {
   "cell_type": "code",
   "execution_count": 4,
   "metadata": {},
   "outputs": [],
   "source": [
    "loc_train = 'data\\\\train.csv'\n",
    "loc_test = 'data\\\\test.csv'\n",
    "target = 'label'\n",
    "\n",
    "raw_train_data = pd.read_csv(loc_train)\n",
    "y = raw_train_data[target]\n",
    "raw_test_data = pd.read_csv(loc_test)\n",
    "# raw_train_data.head(5)"
   ]
  },
  {
   "cell_type": "code",
   "execution_count": 5,
   "metadata": {},
   "outputs": [],
   "source": [
    "def prepare(raw_DF):\n",
    "    DF = raw_DF.copy()\n",
    "    if target in DF.columns:\n",
    "        DF = DF.drop(columns = [target], axis = 1)\n",
    "\n",
    "    DF = DF.values.reshape(-1, 28, 28, 1)\n",
    "    DF = DF/255  \n",
    "\n",
    "#     DF = (DF-mean_px)/std_px\n",
    "    return DF"
   ]
  },
  {
   "cell_type": "code",
   "execution_count": 6,
   "metadata": {},
   "outputs": [],
   "source": [
    "X_train = prepare(raw_train_data)\n",
    "X_test = prepare(raw_test_data)\n",
    "\n",
    "mean_px = X_train.mean().astype(np.float32)\n",
    "std_px = X_train.std().astype(np.float32)\n",
    "\n",
    "def standardize(x): \n",
    "    return (x-mean_px)/std_px"
   ]
  },
  {
   "cell_type": "code",
   "execution_count": 7,
   "metadata": {},
   "outputs": [
    {
     "data": {
      "text/plain": [
       "(42000,)"
      ]
     },
     "execution_count": 7,
     "metadata": {},
     "output_type": "execute_result"
    }
   ],
   "source": [
    "# y = to_categorical(y)\n",
    "y.shape"
   ]
  },
  {
   "cell_type": "code",
   "execution_count": 8,
   "metadata": {},
   "outputs": [],
   "source": [
    "X_train, Val_x, y, val_y = train_test_split(X_train, y, random_state = 249, test_size = 10000)"
   ]
  },
  {
   "cell_type": "code",
   "execution_count": 9,
   "metadata": {},
   "outputs": [
    {
     "data": {
      "image/png": "[encoded data removed]",
      "text/plain": [
       "<Figure size 432x288 with 2 Axes>"
      ]
     },
     "metadata": {
      "needs_background": "light"
     },
     "output_type": "display_data"
    }
   ],
   "source": [
    "plt.imshow(X_test[0][:, :, 0], \n",
    "          cmap = plt.cm.binary)\n",
    "plt.colorbar()\n",
    "plt.grid(False)\n",
    "plt.show()"
   ]
  },
  {
   "cell_type": "code",
   "execution_count": 10,
   "metadata": {},
   "outputs": [],
   "source": [
    "cleaner = [\n",
    "    Input(shape=(784,)), \n",
    "    Lambda(lambda x: x/255.0), \n",
    "    Reshape((28, 28, 1))\n",
    "]\n",
    "\n",
    "CNN = [\n",
    "    Conv2D(32, \n",
    "           (5, 5), \n",
    "           activation='relu' \n",
    "          ), \n",
    "    MaxPooling2D(pool_size=(2, 2))\n",
    "]"
   ]
  },
  {
   "cell_type": "code",
   "execution_count": 11,
   "metadata": {},
   "outputs": [],
   "source": [
    "# https://www.tensorflow.org/api_docs/python/tf/keras/preprocessing/image/ImageDataGenerator\n",
    "datagen = ImageDataGenerator(\n",
    "    rotation_range=8,\n",
    "    width_shift_range=0.07,\n",
    "    height_shift_range=0.07,\n",
    "    brightness_range=None, \n",
    "    shear_range=0.1,\n",
    "    zoom_range=0.1,\n",
    "    channel_shift_range=0.1,\n",
    "    horizontal_flip=False, \n",
    "    vertical_flip=False,     \n",
    "    \n",
    "    validation_split = 0.25\n",
    ")"
   ]
  },
  {
   "cell_type": "code",
   "execution_count": 12,
   "metadata": {
    "scrolled": true
   },
   "outputs": [],
   "source": [
    "# https://keras.io/api/callbacks/\n",
    "callbacks = [\n",
    "    ModelCheckpoint(\n",
    "                    filepath='models', \n",
    "                    save_best_only=True,\n",
    "                    save_weights_only=False\n",
    "                   ), \n",
    "    EarlyStopping(patience = 4,\n",
    "                  restore_best_weights=True,\n",
    "                  monitor = 'val_loss'\n",
    "    ),\n",
    "#     TensorBoard(),    \n",
    "]"
   ]
  },
  {
   "cell_type": "code",
   "execution_count": 13,
   "metadata": {},
   "outputs": [],
   "source": [
    "model = Sequential()\n",
    "\n",
    "# model.add(Lambda(standardize, input_shape=(28,28,1)))\n",
    "\n",
    "model.add(BatchNormalization(axis=1))\n",
    "model.add(Conv2D(32, (5, 5), activation='relu'))\n",
    "model.add(BatchNormalization(axis=1))\n",
    "model.add(Conv2D(32, (5, 5), activation='relu'))\n",
    "model.add(MaxPooling2D())\n",
    "model.add(Dropout(0.10))\n",
    "\n",
    "model.add(BatchNormalization(axis=1))\n",
    "model.add(Conv2D(32, (3, 3), activation='relu'))\n",
    "model.add(BatchNormalization(axis=1))\n",
    "model.add(Conv2D(32, (3, 3), activation='relu'))\n",
    "model.add(MaxPooling2D())\n",
    "model.add(Dropout(0.10))\n",
    "\n",
    "model.add(Flatten())\n",
    "model.add(Dropout(0.10))\n",
    "\n",
    "model.add(BatchNormalization(axis=1))\n",
    "model.add(Dense(512, activation='relu'))\n",
    "model.add(Dropout(0.10))\n",
    "\n",
    "model.add(BatchNormalization(axis=1))\n",
    "model.add(Dense(10, activation='softmax'))"
   ]
  },
  {
   "cell_type": "code",
   "execution_count": 14,
   "metadata": {},
   "outputs": [],
   "source": [
    "# model = Sequential([\n",
    "#         Lambda(standardize, input_shape=(28,28,1)),\n",
    "#         Conv2D(32,(3,3), activation='relu'),\n",
    "#         BatchNormalization(axis=1),\n",
    "#         Conv2D(32,(3,3), activation='relu'),\n",
    "#         MaxPooling2D(),\n",
    "#         BatchNormalization(axis=1),\n",
    "#         Conv2D(64,(3,3), activation='relu'),\n",
    "#         BatchNormalization(axis=1),\n",
    "#         Conv2D(64,(3,3), activation='relu'),\n",
    "#         MaxPooling2D(),\n",
    "#         Flatten(),\n",
    "#         BatchNormalization(),\n",
    "#         Dense(512, activation='relu'),\n",
    "#         BatchNormalization(),\n",
    "#         Dense(10, activation='softmax')\n",
    "#         ])"
   ]
  },
  {
   "cell_type": "code",
   "execution_count": 15,
   "metadata": {},
   "outputs": [],
   "source": [
    "model.compile(\n",
    "    optimizer='rmsprop',  \n",
    "    loss='sparse_categorical_crossentropy',\n",
    "    metrics= ['accuracy']\n",
    ")"
   ]
  },
  {
   "cell_type": "code",
   "execution_count": 16,
   "metadata": {},
   "outputs": [
    {
     "name": "stdout",
     "output_type": "stream",
     "text": [
      "Train for 1000 steps, validate on 10000 samples\n",
      "Epoch 1/32\n",
      " 999/1000 [============================>.] - ETA: 0s - loss: 0.3083 - accuracy: 0.9057WARNING:tensorflow:From C:\\Users\\prasu\\AppData\\Local\\Programs\\Python\\Python37\\lib\\site-packages\\tensorflow_core\\python\\ops\\resource_variable_ops.py:1786: calling BaseResourceVariable.__init__ (from tensorflow.python.ops.resource_variable_ops) with constraint is deprecated and will be removed in a future version.\n",
      "Instructions for updating:\n",
      "If using Keras pass *_constraint arguments to layers.\n",
      "INFO:tensorflow:Assets written to: models\\assets\n",
      "1000/1000 [==============================] - 525s 525ms/step - loss: 0.3083 - accuracy: 0.9057 - val_loss: 0.1068 - val_accuracy: 0.9714\n",
      "Epoch 2/32\n",
      " 999/1000 [============================>.] - ETA: 0s - loss: 0.1277 - accuracy: 0.9625INFO:tensorflow:Assets written to: models\\assets\n",
      "1000/1000 [==============================] - 524s 524ms/step - loss: 0.1276 - accuracy: 0.9625 - val_loss: 0.0564 - val_accuracy: 0.9863\n",
      "Epoch 3/32\n",
      "1000/1000 [==============================] - 513s 513ms/step - loss: 0.1033 - accuracy: 0.9709 - val_loss: 0.0749 - val_accuracy: 0.9838\n",
      "Epoch 4/32\n",
      "1000/1000 [==============================] - 512s 512ms/step - loss: 0.0875 - accuracy: 0.9756 - val_loss: 0.0645 - val_accuracy: 0.9862\n",
      "Epoch 5/32\n",
      "1000/1000 [==============================] - 513s 513ms/step - loss: 0.0813 - accuracy: 0.9783 - val_loss: 0.0673 - val_accuracy: 0.9865\n",
      "Epoch 6/32\n",
      " 999/1000 [============================>.] - ETA: 0s - loss: 0.0740 - accuracy: 0.9797INFO:tensorflow:Assets written to: models\\assets\n",
      "1000/1000 [==============================] - 518s 518ms/step - loss: 0.0740 - accuracy: 0.9797 - val_loss: 0.0472 - val_accuracy: 0.9908\n",
      "Epoch 7/32\n",
      "1000/1000 [==============================] - 520s 520ms/step - loss: 0.0726 - accuracy: 0.9808 - val_loss: 0.0523 - val_accuracy: 0.9911\n",
      "Epoch 8/32\n",
      "1000/1000 [==============================] - 515s 515ms/step - loss: 0.0709 - accuracy: 0.9819 - val_loss: 0.0492 - val_accuracy: 0.9907\n",
      "Epoch 9/32\n",
      "1000/1000 [==============================] - 516s 516ms/step - loss: 0.0689 - accuracy: 0.9825 - val_loss: 0.0703 - val_accuracy: 0.9870\n",
      "Epoch 10/32\n",
      "1000/1000 [==============================] - 515s 515ms/step - loss: 0.0573 - accuracy: 0.9845 - val_loss: 0.0590 - val_accuracy: 0.9897\n"
     ]
    }
   ],
   "source": [
    "history = model.fit(\n",
    "    datagen.flow(X_train, y), \n",
    "    epochs = 32,\n",
    "#     validation_split = 0.25,\n",
    "    validation_data = (Val_x, val_y),\n",
    "#     verbose = 2\n",
    "    callbacks = callbacks\n",
    ")"
   ]
  },
  {
   "cell_type": "code",
   "execution_count": 17,
   "metadata": {},
   "outputs": [
    {
     "name": "stdout",
     "output_type": "stream",
     "text": [
      "10000/10000 [==============================] - 29s 3ms/sample - loss: 0.0472 - accuracy: 0.9908\n"
     ]
    },
    {
     "data": {
      "text/plain": [
       "[0.047220742002183035, 0.9908]"
      ]
     },
     "execution_count": 17,
     "metadata": {},
     "output_type": "execute_result"
    }
   ],
   "source": [
    "ev = model.evaluate(Val_x, val_y)\n",
    "ev"
   ]
  },
  {
   "cell_type": "code",
   "execution_count": 18,
   "metadata": {},
   "outputs": [],
   "source": [
    "predictions = model.predict(X_test)\n",
    "predictions = np.argmax(predictions, axis = 1)"
   ]
  },
  {
   "cell_type": "code",
   "execution_count": 19,
   "metadata": {},
   "outputs": [],
   "source": [
    "output = pd.DataFrame({'ImageId': range(1, len(X_test)+1), 'Label': predictions})\n",
    "output.to_csv('preds\\\\bn_c9c5pc5c3_512_10_e-es16.csv', index = False)\n",
    "# output.to_csv('bnn_sparse.csv', index = False)"
   ]
  },
  {
   "cell_type": "code",
   "execution_count": 20,
   "metadata": {},
   "outputs": [],
   "source": [
    "sm = keras.models.load_model('models')"
   ]
  },
  {
   "cell_type": "code",
   "execution_count": 21,
   "metadata": {},
   "outputs": [],
   "source": [
    "model = sm"
   ]
  },
  {
   "cell_type": "code",
   "execution_count": 22,
   "metadata": {},
   "outputs": [],
   "source": [
    "p = np.argmax(sm.predict(Val_x), axis = 1)"
   ]
  },
  {
   "cell_type": "code",
   "execution_count": 23,
   "metadata": {},
   "outputs": [
    {
     "data": {
      "text/plain": [
       "9908"
      ]
     },
     "execution_count": 23,
     "metadata": {},
     "output_type": "execute_result"
    }
   ],
   "source": [
    "sum(p==val_y)"
   ]
  },
  {
   "cell_type": "code",
   "execution_count": 24,
   "metadata": {},
   "outputs": [
    {
     "name": "stdout",
     "output_type": "stream",
     "text": [
      "10000/10000 [==============================] - 29s 3ms/sample - loss: 0.0456 - accuracy: 0.9908\n"
     ]
    },
    {
     "data": {
      "text/plain": [
       "[0.04561601200666264, 0.9908]"
      ]
     },
     "execution_count": 24,
     "metadata": {},
     "output_type": "execute_result"
    }
   ],
   "source": [
    "sm.evaluate(Val_x, val_y)"
   ]
  },
  {
   "cell_type": "code",
   "execution_count": null,
   "metadata": {},
   "outputs": [],
   "source": []
  }
 ],
 "metadata": {
  "kernelspec": {
   "display_name": "Python 3.7.4 64-bit",
   "language": "python",
   "name": "python37464bitb122d7ed60ea485982511a1bcddbd83a"
  },
  "language_info": {
   "codemirror_mode": {
    "name": "ipython",
    "version": 3
   },
   "file_extension": ".py",
   "mimetype": "text/x-python",
   "name": "python",
   "nbconvert_exporter": "python",
   "pygments_lexer": "ipython3",
   "version": "3.7.4"
  }
 },
 "nbformat": 4,
 "nbformat_minor": 2
}
